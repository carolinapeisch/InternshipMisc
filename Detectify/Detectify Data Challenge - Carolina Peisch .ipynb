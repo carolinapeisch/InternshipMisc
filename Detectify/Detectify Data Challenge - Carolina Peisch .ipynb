{
 "cells": [
  {
   "cell_type": "markdown",
   "metadata": {},
   "source": [
    "\n",
    "I began this data challenge by sketching my vision of the system required to stabilize the rate of document polling. Adding a buffer system in between the document store and the raw data aggregation process could balance the input of new events, rendering it stable no matter time of week or day. The question now is, how do we \n",
    "guarantee this?\n",
    "\n",
    "For simplicity's sake, let's imagine the document store has a maximum output of 100 documents per minute (when it's the busiest) and 1 document per hour (when it's the slowest). Because the time that it takes to aggregate new events is directly proportional to the number of events itself, without our buffer, the busiest times would cause the data aggregation to be 100 times faster than the slowest times. \n"
   ]
  },
  {
   "cell_type": "code",
   "execution_count": 11,
   "metadata": {
    "collapsed": false
   },
   "outputs": [
    {
     "data": {
<<<<<<< HEAD
      "image/png": "iVBORw0KGgoAAAANSUhEUgAABT0AAALKCAYAAADwPfUjAAAAAXNSR0IArs4c6QAAAARnQU1BAACx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\npiL0BAAAAAAm8u7d/w+jD9d5Ya+skQAAAABJRU5ErkJggg==\n",
=======
      "text/html": [
       "<img src=\"InternshipMisc/Detectify/image_snip.PNG\"/>"
      ],
>>>>>>> 2cec87f729e388f231046678d1f5489051a5de03
      "text/plain": [
       "<IPython.core.display.Image object>"
      ]
     },
     "metadata": {},
     "output_type": "display_data"
    }
   ],
   "source": [
    "from IPython.display import Image, display\n",
    "\n",
    "listOfImageNames = ['image_snip.png']\n",
    "\n",
    "for imageName in listOfImageNames:\n",
    "    display(Image(filename=imageName))"
   ]
  },
  {
   "cell_type": "markdown",
   "metadata": {},
   "source": [
    "Implementing a derivation of the producer-consumer algorithm is one approach to the task at hand. We have two competing demands here, the creation of new events by the data source / document store (producer) and the aggregation of this data (consumer). In order to normalize the rate of data consumption, these demands must be balanced AND they must run concurrently. Therefore, in pythonic terms, we need to create two separate Threads to conduct each. Threading is a good way to decrease a system processor's idle time by splitting up the work into two separate chunks that are dealt with concurrently instead of sequentially. We also want to make sure that the consumer thread understands to not run or ask the producer thread for data when there is none, so we need to use Condition object which will allow the consumer thread to wait to grab the data until notified by the producer thread that it may do so. Conversely, we want the producer thread to send new data to the buffer when there is space for it and to wait when the buffer is full. In other words, we want to add a dynamic ceiling to our buffer system that will prevent the producer from being called too often when there is a slower flow of data but also called often enough when there is a fast flow of data. "
   ]
  },
  {
   "cell_type": "code",
   "execution_count": null,
   "metadata": {
    "collapsed": false
   },
   "outputs": [],
   "source": [
    "from threading import Thread, Condition\n",
    "import time\n",
    "import random\n",
    "\n",
    "#setting buffer to empty list\n",
    "buffer = []\n",
    "\n",
    "#setting buffer_ceiling to static value of 50 to begin\n",
    "buffer_ceiling = 50\n",
    "\n",
    "#Condition object \n",
    "#allows the consumer thread to wait to grab the data until notified by the producer thread that it may do so.\n",
    "condition = Condition()\n",
    "\n",
    "class ProducerThread(Thread):\n",
    "    def run(self):\n",
    "        #giving nums a range of 100 to represent 1-100 range of hourly document creation mentioned above\n",
    "        nums = range(100)\n",
    "        global buffer\n",
    "        while True:\n",
    "            condition.acquire()\n",
    "            #if the sum of the documents is higher than the imposed buffer_ceiling, the buffer needs to wait\n",
    "            if sum(buffer) > buffer_ceiling:\n",
    "                print \"Buffer is at maximum limit, producer is waiting for consumer to make room for more data\"\n",
    "                condition.wait()\n",
    "                print \"Buffer is no longer at maximum limit, producer can send data\"\n",
    "            num = random.choice(nums)\n",
    "            buffer.append(num)\n",
    "            print \"Produced\", num\n",
    "            condition.notify()\n",
    "            condition.release()\n",
    "            time.sleep(random.random())\n",
    "\n",
    "\n",
    "class ConsumerThread(Thread):\n",
    "    def run(self):\n",
    "        global buffer\n",
    "        while True:\n",
    "            condition.acquire()\n",
    "            if not buffer:\n",
    "                print \"Buffer is not at maximum limit, consumer is waiting for producer to send more data\"\n",
    "                condition.wait()\n",
    "                print \"Buffer now has data, consumer can consume \"\n",
    "            num = buffer.pop(0)\n",
    "            print \"Consumed\", num\n",
    "            condition.notify()\n",
    "            condition.release()\n",
    "            time.sleep(random.random())\n",
    "\n",
    "\n",
    "ProducerThread().start()\n",
    "ConsumerThread().start()"
   ]
  },
  {
   "cell_type": "markdown",
   "metadata": {},
   "source": [
    "The problem with the above code is that the buffer_ceiling is hard-coded to 50. However, this buffer ceiling should be dynamic and responsive to current data rate. Having a ceiling at 50 for a slow day would mean that it might take 50 minutes for the raw data to be aggregated, which is clearly too long. Conversely, for a fast day it would mean that the aggregation would take place twice a minute, while in reality it could be much faster. In order to make buffer_ceiling dynamic and responsive, we could create a variable called data_rate which would reflect the rate of data produced. This way, we would be setting a ceiling at a rate of documents per minute, not a count of documents. \n",
    "\n"
   ]
  },
  {
   "cell_type": "code",
   "execution_count": null,
   "metadata": {
    "collapsed": false
   },
   "outputs": [],
   "source": [
    "from threading import Thread, Condition\n",
    "import time\n",
    "import random\n",
    "\n",
    "buffer = []\n",
    "buffer_ceiling = 50\n",
    "condition = Condition()\n",
    "\n",
    "\n",
    "list_of_rates = []\n",
    "\n",
    "class ProducerThread(Thread):\n",
    "    def run(self):\n",
    "        nums = range(100)\n",
    "        #setting time range to 60, the number of minutes per hour\n",
    "        time_range = range(1,60)\n",
    "        global buffer\n",
    "        global list_of_rates \n",
    "        while True:\n",
    "            condition.acquire()\n",
    "            if sum(buffer) > buffer_ceiling:\n",
    "                print \"Buffer is at maximum limit, producer is waiting for consumer to consumer and make room for more data\"\n",
    "                condition.wait()\n",
    "                print \"Buffer is no longer at maximum limit, producer can send data\"\n",
    "            num = random.choice(nums)\n",
    "            buffer.append(num)\n",
    "            time_to_produce = random.choice(time_range)\n",
    "            print \"Produced \" + str(num) + \" documents\"\n",
    "            print \"Minutes it took to produce: \" + str(time_to_produce)\n",
    "            data_rate = round((float(num) / time_to_produce), 4)\n",
    "            print 'Data rate is ' + str(data_rate) + \" document per minute\"\n",
    "            list_of_rates.append(data_rate)\n",
    "#             print list_of_rates\n",
    "\n",
    "class ConsumerThread(Thread):\n",
    "    def run(self):\n",
    "        global buffer\n",
    "        while True:\n",
    "            condition.acquire()\n",
    "            if not buffer:\n",
    "                print \"Buffer is not at maximum limit, consumer is waiting for producer to send more data\"\n",
    "                condition.wait()\n",
    "                print \"Buffer now has data, consumer can consume \"\n",
    "            num = buffer.pop(0)\n",
    "            print \"Consumed \" + str(num) + \" documents\"\n",
    "            condition.notify()\n",
    "            condition.release()\n",
    "            time.sleep(random.random())\n",
    "\n",
    "ProducerThread().start()\n",
    "ConsumerThread().start()\n",
    "\n",
    "\n"
   ]
  },
  {
   "cell_type": "code",
   "execution_count": null,
   "metadata": {
    "collapsed": false
   },
   "outputs": [],
   "source": [
    "import numpy\n",
    "\n",
    "mean_rate = (numpy.mean(list_of_rates))\n",
    "print \"Mean rate is \" + str(mean_rate)"
   ]
  },
  {
   "cell_type": "markdown",
   "metadata": {},
   "source": [
    "After running the code several times to get a substantial sample list of data_rates, we see that the mean rate hovers around 3-4 documents per minute. With this mean rate in hand, we can now set the data_ceiling to this more dynamic value and compare each document production's data rate to check if it is above or below the average. If it is higher than average, it is at the maximum limit - if not, the system can proceed. Below is the final code. "
   ]
  },
  {
   "cell_type": "code",
   "execution_count": null,
   "metadata": {
    "collapsed": false
   },
   "outputs": [],
   "source": [
    "from threading import Thread, Condition\n",
    "import time\n",
    "import random\n",
    "\n",
    "buffer = []\n",
    "\n",
    "#Setting buffer ceiling to 3, the average data rate per minute\n",
    "buffer_ceiing = 3.5\n",
    "\n",
    "condition = Condition()\n",
    "\n",
    "\n",
    "class ProducerThread(Thread):\n",
    "    def run(self):\n",
    "        nums = range(100)\n",
    "        time_range = range(1,60)\n",
    "        global buffer\n",
    "        global list_of_rates \n",
    "        while True:\n",
    "            condition.acquire()\n",
    "            if list_of_rates[0] > buffer_ceiling:\n",
    "                print \"Buffer is at maximum limit, producer is waiting for consumer to consumer and make room for more data\"\n",
    "                condition.wait()\n",
    "                print \"Buffer is no longer at maximum limit, producer can send data\"\n",
    "            num = random.choice(nums)\n",
    "            buffer.append(num)\n",
    "            time_to_produce = random.choice(time_range)\n",
    "            print \"Produced \" + str(num) + \" documents\"\n",
    "            print \"Minutes it took to produce: \" + str(time_to_produce)\n",
    "            data_rate = round((float(num) / time_to_produce), 4)\n",
    "            print 'Data rate is ' + str(data_rate) + \" document per minute\"\n",
    "            list_of_rates.append(data_rate)\n",
    "#             print list_of_rates\n",
    "\n",
    "class ConsumerThread(Thread):\n",
    "    def run(self):\n",
    "        global buffer\n",
    "        while True:\n",
    "            condition.acquire()\n",
    "            if not buffer:\n",
    "                print \"Buffer is not at maximum limit, consumer is waiting for producer to send more data\"\n",
    "                condition.wait()\n",
    "                print \"Buffer now has data, consumer can consume \"\n",
    "            num = buffer.pop(0)\n",
    "            print \"Consumed \" + str(num) + \" documents\"\n",
    "            condition.notify()\n",
    "            condition.release()\n",
    "            time.sleep(random.random())\n",
    "\n",
    "ProducerThread().start()\n",
    "ConsumerThread().start()"
   ]
  },
  {
   "cell_type": "markdown",
   "metadata": {},
   "source": [
    "# References"
   ]
  },
  {
   "cell_type": "markdown",
   "metadata": {},
   "source": [
    "http://stackoverflow.com/questions/2846653/how-to-use-threading-in-python \n",
    "http://agiliq.com/blog/2013/10/producer-consumer-problem-in-python/\n",
    "http://agiliq.com/blog/2013/09/understanding-threads-in-python/\n",
    "https://en.wikipedia.org/wiki/Race_condition#Example\n",
    "http://chriskiehl.com/article/parallelism-in-one-line/\n",
    "\n",
    "\n"
   ]
  }
 ],
 "metadata": {
  "kernelspec": {
   "display_name": "Python 2",
   "language": "python",
   "name": "python2"
  },
  "language_info": {
   "codemirror_mode": {
    "name": "ipython",
    "version": 2
   },
   "file_extension": ".py",
   "mimetype": "text/x-python",
   "name": "python",
   "nbconvert_exporter": "python",
   "pygments_lexer": "ipython2",
   "version": "2.7.10"
  }
 },
 "nbformat": 4,
 "nbformat_minor": 0
}
