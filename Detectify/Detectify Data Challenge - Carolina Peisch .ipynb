{
 "cells": [
  {
   "cell_type": "markdown",
   "metadata": {},
   "source": [
    "\n",
    "I began this data challenge by sketching my vision of the system required to stabilize the rate of document polling. Adding a buffer system in between the document store and the raw data aggregation process could balance the input of new events, rendering it stable no matter time of week or day. The question now is, how do we \n",
    "guarantee this?\n",
    "\n",
    "For simplicity's sake, let's imagine the document store has a maximum output of 100 documents per minute (when it's the busiest) and 1 document per hour (when it's the slowest). Because the time that it takes to aggregate new events is directly proportional to the number of events itself, without our buffer, the busiest times would cause the data aggregation to be 100 times faster than the slowest times. \n"
   ]
  },
  {
   "cell_type": "code",
   "execution_count": 8,
   "metadata": {
    "collapsed": false
   },
   "outputs": [
    {
     "data": {
      "text/html": [
       "<img src=\"image_snip.png\"/>"
      ],
      "text/plain": [
       "<IPython.core.display.Image object>"
      ]
     },
     "metadata": {},
     "output_type": "display_data"
    }
   ],
   "source": [
    "from IPython.display import Image\n",
    "from IPython.display import display\n",
    "display(Image(url='image_snip.png'))"
   ]
  },
  {
   "cell_type": "markdown",
   "metadata": {},
   "source": [
    "Implementing a derivation of the producer-consumer algorithm is one approach to the task at hand. We have two competing demands here, the creation of new events by the data source / document store (producer) and the aggregation of this data (consumer). In order to normalize the rate of data consumption, these demands must be balanced AND they must run concurrently. Therefore, in pythonic terms, we need to create two separate Threads to conduct each. Threading is a good way to decrease a system processor's idle time by splitting up the work into two separate chunks that are dealt with concurrently instead of sequentially. We also want to make sure that the consumer thread understands to not run or ask the producer thread for data when there is none, so we need to use Condition object which will allow the consumer thread to wait to grab the data until notified by the producer thread that it may do so. Conversely, we want the producer thread to send new data to the buffer when there is space for it and to wait when the buffer is full. In other words, we want to add a dynamic ceiling to our buffer system that will prevent the producer from being called too often when there is a slower flow of data but also called often enough when there is a fast flow of data. "
   ]
  },
  {
   "cell_type": "code",
   "execution_count": null,
   "metadata": {
    "collapsed": false
   },
   "outputs": [],
   "source": [
    "from threading import Thread, Condition\n",
    "import time\n",
    "import random\n",
    "\n",
    "#setting buffer to empty list\n",
    "buffer = []\n",
    "\n",
    "#setting buffer_ceiling to static value of 50 to begin\n",
    "buffer_ceiling = 50\n",
    "\n",
    "#Condition object \n",
    "#allows the consumer thread to wait to grab the data until notified by the producer thread that it may do so.\n",
    "condition = Condition()\n",
    "\n",
    "class ProducerThread(Thread):\n",
    "    def run(self):\n",
    "        #giving nums a range of 100 to represent 1-100 range of hourly document creation mentioned above\n",
    "        nums = range(100)\n",
    "        global buffer\n",
    "        while True:\n",
    "            condition.acquire()\n",
    "            #if the sum of the documents is higher than the imposed buffer_ceiling, the buffer needs to wait\n",
    "            if sum(buffer) > buffer_ceiling:\n",
    "                print \"Buffer is at maximum limit, producer is waiting for consumer to make room for more data\"\n",
    "                condition.wait()\n",
    "                print \"Buffer is no longer at maximum limit, producer can send data\"\n",
    "            num = random.choice(nums)\n",
    "            buffer.append(num)\n",
    "            print \"Produced\", num\n",
    "            condition.notify()\n",
    "            condition.release()\n",
    "            time.sleep(random.random())\n",
    "\n",
    "\n",
    "class ConsumerThread(Thread):\n",
    "    def run(self):\n",
    "        global buffer\n",
    "        while True:\n",
    "            condition.acquire()\n",
    "            if not buffer:\n",
    "                print \"Buffer is not at maximum limit, consumer is waiting for producer to send more data\"\n",
    "                condition.wait()\n",
    "                print \"Buffer now has data, consumer can consume \"\n",
    "            num = buffer.pop(0)\n",
    "            print \"Consumed\", num\n",
    "            condition.notify()\n",
    "            condition.release()\n",
    "            time.sleep(random.random())\n",
    "\n",
    "\n",
    "ProducerThread().start()\n",
    "ConsumerThread().start()"
   ]
  },
  {
   "cell_type": "markdown",
   "metadata": {},
   "source": [
    "The problem with the above code is that the buffer_ceiling is hard-coded to 50. However, this buffer ceiling should be dynamic and responsive to current data rate. Having a ceiling at 50 for a slow day would mean that it might take 50 minutes for the raw data to be aggregated, which is clearly too long. Conversely, for a fast day it would mean that the aggregation would take place twice a minute, while in reality it could be much faster. In order to make buffer_ceiling dynamic and responsive, we could create a variable called data_rate which would reflect the rate of data produced. This way, we would be setting a ceiling at a rate of documents per minute, not a count of documents. \n",
    "\n"
   ]
  },
  {
   "cell_type": "code",
   "execution_count": null,
   "metadata": {
    "collapsed": false
   },
   "outputs": [],
   "source": [
    "from threading import Thread, Condition\n",
    "import time\n",
    "import random\n",
    "\n",
    "buffer = []\n",
    "buffer_ceiling = 50\n",
    "condition = Condition()\n",
    "\n",
    "\n",
    "list_of_rates = []\n",
    "\n",
    "class ProducerThread(Thread):\n",
    "    def run(self):\n",
    "        nums = range(100)\n",
    "        #setting time range to 60, the number of minutes per hour\n",
    "        time_range = range(1,60)\n",
    "        global buffer\n",
    "        global list_of_rates \n",
    "        while True:\n",
    "            condition.acquire()\n",
    "            if sum(buffer) > buffer_ceiling:\n",
    "                print \"Buffer is at maximum limit, producer is waiting for consumer to consumer and make room for more data\"\n",
    "                condition.wait()\n",
    "                print \"Buffer is no longer at maximum limit, producer can send data\"\n",
    "            num = random.choice(nums)\n",
    "            buffer.append(num)\n",
    "            time_to_produce = random.choice(time_range)\n",
    "            print \"Produced \" + str(num) + \" documents\"\n",
    "            print \"Minutes it took to produce: \" + str(time_to_produce)\n",
    "            data_rate = round((float(num) / time_to_produce), 4)\n",
    "            print 'Data rate is ' + str(data_rate) + \" document per minute\"\n",
    "            list_of_rates.append(data_rate)\n",
    "#             print list_of_rates\n",
    "\n",
    "class ConsumerThread(Thread):\n",
    "    def run(self):\n",
    "        global buffer\n",
    "        while True:\n",
    "            condition.acquire()\n",
    "            if not buffer:\n",
    "                print \"Buffer is not at maximum limit, consumer is waiting for producer to send more data\"\n",
    "                condition.wait()\n",
    "                print \"Buffer now has data, consumer can consume \"\n",
    "            num = buffer.pop(0)\n",
    "            print \"Consumed \" + str(num) + \" documents\"\n",
    "            condition.notify()\n",
    "            condition.release()\n",
    "            time.sleep(random.random())\n",
    "\n",
    "ProducerThread().start()\n",
    "ConsumerThread().start()\n",
    "\n",
    "\n"
   ]
  },
  {
   "cell_type": "code",
   "execution_count": null,
   "metadata": {
    "collapsed": false
   },
   "outputs": [],
   "source": [
    "import numpy\n",
    "\n",
    "mean_rate = (numpy.mean(list_of_rates))\n",
    "print \"Mean rate is \" + str(mean_rate)"
   ]
  },
  {
   "cell_type": "markdown",
   "metadata": {},
   "source": [
    "After running the code several times to get a substantial sample list of data_rates, we see that the mean rate hovers around 3-4 documents per minute. With this mean rate in hand, we can now set the data_ceiling to this more dynamic value and compare each document production's data rate to check if it is above or below the average. If it is higher than average, it is at the maximum limit - if not, the system can proceed. Below is the final code. "
   ]
  },
  {
   "cell_type": "code",
   "execution_count": null,
   "metadata": {
    "collapsed": false
   },
   "outputs": [],
   "source": [
    "from threading import Thread, Condition\n",
    "import time\n",
    "import random\n",
    "\n",
    "buffer = []\n",
    "\n",
    "#Setting buffer ceiling to 3, the average data rate per minute\n",
    "buffer_ceiing = 3.5\n",
    "\n",
    "condition = Condition()\n",
    "\n",
    "\n",
    "class ProducerThread(Thread):\n",
    "    def run(self):\n",
    "        nums = range(100)\n",
    "        time_range = range(1,60)\n",
    "        global buffer\n",
    "        global list_of_rates \n",
    "        while True:\n",
    "            condition.acquire()\n",
    "            if list_of_rates[0] > buffer_ceiling:\n",
    "                print \"Buffer is at maximum limit, producer is waiting for consumer to consumer and make room for more data\"\n",
    "                condition.wait()\n",
    "                print \"Buffer is no longer at maximum limit, producer can send data\"\n",
    "            num = random.choice(nums)\n",
    "            buffer.append(num)\n",
    "            time_to_produce = random.choice(time_range)\n",
    "            print \"Produced \" + str(num) + \" documents\"\n",
    "            print \"Minutes it took to produce: \" + str(time_to_produce)\n",
    "            data_rate = round((float(num) / time_to_produce), 4)\n",
    "            print 'Data rate is ' + str(data_rate) + \" document per minute\"\n",
    "            list_of_rates.append(data_rate)\n",
    "#             print list_of_rates\n",
    "\n",
    "class ConsumerThread(Thread):\n",
    "    def run(self):\n",
    "        global buffer\n",
    "        while True:\n",
    "            condition.acquire()\n",
    "            if not buffer:\n",
    "                print \"Buffer is not at maximum limit, consumer is waiting for producer to send more data\"\n",
    "                condition.wait()\n",
    "                print \"Buffer now has data, consumer can consume \"\n",
    "            num = buffer.pop(0)\n",
    "            print \"Consumed \" + str(num) + \" documents\"\n",
    "            condition.notify()\n",
    "            condition.release()\n",
    "            time.sleep(random.random())\n",
    "\n",
    "ProducerThread().start()\n",
    "ConsumerThread().start()"
   ]
  },
  {
   "cell_type": "markdown",
   "metadata": {},
   "source": [
    "# References"
   ]
  },
  {
   "cell_type": "markdown",
   "metadata": {},
   "source": [
    "http://stackoverflow.com/questions/2846653/how-to-use-threading-in-python \n",
    "http://agiliq.com/blog/2013/10/producer-consumer-problem-in-python/\n",
    "http://agiliq.com/blog/2013/09/understanding-threads-in-python/\n",
    "https://en.wikipedia.org/wiki/Race_condition#Example\n",
    "http://chriskiehl.com/article/parallelism-in-one-line/\n",
    "\n",
    "\n"
   ]
  }
 ],
 "metadata": {
  "kernelspec": {
   "display_name": "Python 2",
   "language": "python",
   "name": "python2"
  },
  "language_info": {
   "codemirror_mode": {
    "name": "ipython",
    "version": 2
   },
   "file_extension": ".py",
   "mimetype": "text/x-python",
   "name": "python",
   "nbconvert_exporter": "python",
   "pygments_lexer": "ipython2",
   "version": "2.7.10"
  }
 },
 "nbformat": 4,
 "nbformat_minor": 0
}
